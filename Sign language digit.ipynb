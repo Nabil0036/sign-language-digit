{
 "cells": [
  {
   "cell_type": "code",
   "execution_count": 1,
   "metadata": {},
   "outputs": [],
   "source": [
    "import tensorflow as tf\n",
    "from tensorflow import keras\n",
    "import numpy as np\n",
    "import pandas as pd\n",
    "import matplotlib.pyplot as plt"
   ]
  },
  {
   "cell_type": "code",
   "execution_count": 2,
   "metadata": {},
   "outputs": [],
   "source": [
    "X= np.load('X.npy')\n",
    "y = np.load('Y.npy')"
   ]
  },
  {
   "cell_type": "code",
   "execution_count": 3,
   "metadata": {},
   "outputs": [],
   "source": [
    "indices = tf.range(start=0, limit=tf.shape(X)[0], dtype=tf.int32)\n",
    "idx = tf.random.shuffle(indices,seed=0)\n",
    "X = tf.gather(X, idx)\n",
    "y = tf.gather(y, idx)"
   ]
  },
  {
   "cell_type": "code",
   "execution_count": 4,
   "metadata": {},
   "outputs": [],
   "source": [
    "X = np.array(X)\n",
    "y = np.array(y)"
   ]
  },
  {
   "cell_type": "code",
   "execution_count": 5,
   "metadata": {},
   "outputs": [],
   "source": [
    "X_train = X[0:1600]\n",
    "X_test = X[1600:len(X)]\n",
    "y_train = y[0:1600]\n",
    "y_test = y[1600:len(X)]"
   ]
  },
  {
   "cell_type": "code",
   "execution_count": 6,
   "metadata": {},
   "outputs": [
    {
     "data": {
      "text/plain": [
       "(462, 64, 64)"
      ]
     },
     "execution_count": 6,
     "metadata": {},
     "output_type": "execute_result"
    }
   ],
   "source": [
    "X_test.shape"
   ]
  },
  {
   "cell_type": "code",
   "execution_count": 7,
   "metadata": {},
   "outputs": [],
   "source": [
    "X_train = X_train.reshape(1600,64,64,1)\n",
    "X_test = X_test.reshape(462,64,64,1)"
   ]
  },
  {
   "cell_type": "code",
   "execution_count": 8,
   "metadata": {},
   "outputs": [],
   "source": [
    "from tensorflow.keras.models import Sequential\n",
    "from tensorflow.keras.layers import Dense,Conv2D,MaxPool2D,Flatten,Dropout,LeakyReLU\n",
    "from tensorflow.keras.callbacks import EarlyStopping"
   ]
  },
  {
   "cell_type": "code",
   "execution_count": 9,
   "metadata": {},
   "outputs": [],
   "source": [
    "model = Sequential()\n",
    "\n",
    "model.add(Conv2D(filters=32,kernel_size=(4,4),input_shape=(64,64,1)))\n",
    "model.add(LeakyReLU())\n",
    "model.add(MaxPool2D(pool_size=(2,2)))\n",
    "model.add(Dropout(0.3))\n",
    "\n",
    "model.add(Conv2D(filters=64,kernel_size=(4,4)))\n",
    "model.add(LeakyReLU())\n",
    "model.add(MaxPool2D(pool_size=(2,2)))\n",
    "model.add(Dropout(0.3))\n",
    "\n",
    "model.add(Flatten())\n",
    "\n",
    "model.add(Dense(256,activation='relu'))\n",
    "\n",
    "model.add(Dense(10,activation='softmax'))\n",
    "\n",
    "model.compile(loss = \"categorical_crossentropy\", optimizer = \"rmsprop\",metrics=['accuracy'])"
   ]
  },
  {
   "cell_type": "code",
   "execution_count": 10,
   "metadata": {},
   "outputs": [],
   "source": [
    "early_stop = EarlyStopping(monitor='val_loss',patience=2)"
   ]
  },
  {
   "cell_type": "code",
   "execution_count": 11,
   "metadata": {},
   "outputs": [
    {
     "name": "stdout",
     "output_type": "stream",
     "text": [
      "Train on 1600 samples, validate on 462 samples\n",
      "Epoch 1/30\n",
      "1600/1600 [==============================] - 26s 16ms/sample - loss: 2.4509 - accuracy: 0.1488 - val_loss: 2.1954 - val_accuracy: 0.2424\n",
      "Epoch 2/30\n",
      "1600/1600 [==============================] - 23s 14ms/sample - loss: 1.4322 - accuracy: 0.5163 - val_loss: 0.8819 - val_accuracy: 0.6926\n",
      "Epoch 3/30\n",
      "1600/1600 [==============================] - 22s 14ms/sample - loss: 0.7037 - accuracy: 0.7644 - val_loss: 0.6137 - val_accuracy: 0.7944\n",
      "Epoch 4/30\n",
      "1600/1600 [==============================] - 21s 13ms/sample - loss: 0.4799 - accuracy: 0.8450 - val_loss: 0.5523 - val_accuracy: 0.8139\n",
      "Epoch 5/30\n",
      "1600/1600 [==============================] - 21s 13ms/sample - loss: 0.3305 - accuracy: 0.8894 - val_loss: 0.4922 - val_accuracy: 0.8355\n",
      "Epoch 6/30\n",
      "1600/1600 [==============================] - 19s 12ms/sample - loss: 0.2099 - accuracy: 0.9406 - val_loss: 0.4462 - val_accuracy: 0.8485\n",
      "Epoch 7/30\n",
      "1600/1600 [==============================] - 25s 15ms/sample - loss: 0.1432 - accuracy: 0.9613 - val_loss: 0.4663 - val_accuracy: 0.8701\n",
      "Epoch 8/30\n",
      "1600/1600 [==============================] - 24s 15ms/sample - loss: 0.0944 - accuracy: 0.9731 - val_loss: 0.4441 - val_accuracy: 0.8874\n",
      "Epoch 9/30\n",
      "1600/1600 [==============================] - 26s 16ms/sample - loss: 0.0556 - accuracy: 0.9856 - val_loss: 0.4786 - val_accuracy: 0.8831\n",
      "Epoch 10/30\n",
      "1600/1600 [==============================] - 27s 17ms/sample - loss: 0.0368 - accuracy: 0.9856 - val_loss: 0.5253 - val_accuracy: 0.8636\n"
     ]
    }
   ],
   "source": [
    "history = model.fit(X_train,y_train,epochs=30,validation_data=(X_test,y_test),callbacks=[early_stop])"
   ]
  },
  {
   "cell_type": "code",
   "execution_count": 12,
   "metadata": {},
   "outputs": [
    {
     "data": {
      "text/plain": [
       "[0.5253189139035873, 0.8636364]"
      ]
     },
     "execution_count": 12,
     "metadata": {},
     "output_type": "execute_result"
    }
   ],
   "source": [
    "model.evaluate(X_test,y_test,verbose=0)"
   ]
  },
  {
   "cell_type": "code",
   "execution_count": 13,
   "metadata": {},
   "outputs": [
    {
     "data": {
      "text/plain": [
       "array([0., 0., 0., 0., 0., 0., 0., 1., 0., 0.])"
      ]
     },
     "execution_count": 13,
     "metadata": {},
     "output_type": "execute_result"
    }
   ],
   "source": [
    "y_test[78]"
   ]
  },
  {
   "cell_type": "code",
   "execution_count": 14,
   "metadata": {},
   "outputs": [],
   "source": [
    "q = model.predict_classes(X_test)"
   ]
  },
  {
   "cell_type": "code",
   "execution_count": 15,
   "metadata": {},
   "outputs": [],
   "source": [
    "y_classes = [np.argmax(y, axis=None, out=None) for y in y_test]"
   ]
  },
  {
   "cell_type": "code",
   "execution_count": 16,
   "metadata": {},
   "outputs": [],
   "source": [
    "from sklearn.metrics import confusion_matrix"
   ]
  },
  {
   "cell_type": "code",
   "execution_count": 17,
   "metadata": {},
   "outputs": [],
   "source": [
    "l = confusion_matrix(q,y_classes)"
   ]
  },
  {
   "cell_type": "code",
   "execution_count": 18,
   "metadata": {},
   "outputs": [
    {
     "data": {
      "text/plain": [
       "array([[38,  0,  0,  0,  0,  2,  2,  2,  0,  0],\n",
       "       [ 0, 47,  1,  0,  0,  0,  0,  0,  0,  0],\n",
       "       [ 0,  0, 35,  2,  0,  1,  1,  0,  1,  0],\n",
       "       [ 1,  2,  1, 43,  0,  2,  7,  0,  1,  0],\n",
       "       [ 2,  0,  1,  0, 44,  1,  0,  0,  1,  0],\n",
       "       [ 2,  0,  2,  0,  0, 43,  0,  0,  0,  0],\n",
       "       [ 1,  1,  0,  1,  0,  0, 36,  0,  0,  1],\n",
       "       [ 1,  0,  0,  0,  0,  0,  0, 33,  1,  0],\n",
       "       [ 0,  0,  7,  4,  2,  0,  0,  6, 43,  0],\n",
       "       [ 0,  0,  0,  0,  0,  0,  3,  0,  0, 37]], dtype=int64)"
      ]
     },
     "execution_count": 18,
     "metadata": {},
     "output_type": "execute_result"
    }
   ],
   "source": [
    "l"
   ]
  },
  {
   "cell_type": "code",
   "execution_count": 19,
   "metadata": {},
   "outputs": [],
   "source": [
    "df = pd.DataFrame(l)"
   ]
  },
  {
   "cell_type": "code",
   "execution_count": 20,
   "metadata": {},
   "outputs": [],
   "source": [
    "import seaborn as sns"
   ]
  },
  {
   "cell_type": "code",
   "execution_count": 21,
   "metadata": {},
   "outputs": [
    {
     "data": {
      "text/plain": [
       "<matplotlib.axes._subplots.AxesSubplot at 0x1f8c97bce48>"
      ]
     },
     "execution_count": 21,
     "metadata": {},
     "output_type": "execute_result"
    },
    {
     "data": {
      "image/png": "[encoded data removed]",
      "text/plain": [
       "<Figure size 432x288 with 2 Axes>"
      ]
     },
     "metadata": {
      "needs_background": "light"
     },
     "output_type": "display_data"
    }
   ],
   "source": [
    "sns.heatmap(l,cmap=\"BuPu\")"
   ]
  },
  {
   "cell_type": "code",
   "execution_count": 22,
   "metadata": {},
   "outputs": [],
   "source": [
    "model.save(\"model_1.h5\")"
   ]
  },
  {
   "cell_type": "code",
   "execution_count": 23,
   "metadata": {},
   "outputs": [],
   "source": [
    "metrics = pd.DataFrame(model.history.history)"
   ]
  },
  {
   "cell_type": "code",
   "execution_count": 24,
   "metadata": {},
   "outputs": [
    {
     "data": {
      "text/plain": [
       "<matplotlib.axes._subplots.AxesSubplot at 0x1f8c91d5808>"
      ]
     },
     "execution_count": 24,
     "metadata": {},
     "output_type": "execute_result"
    },
    {
     "data": {
      "image/png": "[encoded data removed]",
      "text/plain": [
       "<Figure size 432x288 with 1 Axes>"
      ]
     },
     "metadata": {
      "needs_background": "light"
     },
     "output_type": "display_data"
    }
   ],
   "source": [
    "metrics.plot()"
   ]
  },
  {
   "cell_type": "code",
   "execution_count": 25,
   "metadata": {},
   "outputs": [],
   "source": [
    "m=111\n",
    "a = X_test[m].reshape(64,64)"
   ]
  },
  {
   "cell_type": "code",
   "execution_count": 26,
   "metadata": {},
   "outputs": [
    {
     "data": {
      "text/plain": [
       "<matplotlib.image.AxesImage at 0x1f8ca1b1a08>"
      ]
     },
     "execution_count": 26,
     "metadata": {},
     "output_type": "execute_result"
    },
    {
     "data": {
      "image/png": "[encoded data removed]",
      "text/plain": [
       "<Figure size 432x288 with 1 Axes>"
      ]
     },
     "metadata": {
      "needs_background": "light"
     },
     "output_type": "display_data"
    }
   ],
   "source": [
    "plt.imshow(a)"
   ]
  },
  {
   "cell_type": "code",
   "execution_count": 27,
   "metadata": {},
   "outputs": [
    {
     "data": {
      "text/plain": [
       "array([0., 0., 0., 1., 0., 0., 0., 0., 0., 0.])"
      ]
     },
     "execution_count": 27,
     "metadata": {},
     "output_type": "execute_result"
    }
   ],
   "source": [
    "y_test[m]"
   ]
  },
  {
   "cell_type": "code",
   "execution_count": 28,
   "metadata": {},
   "outputs": [
    {
     "data": {
      "text/plain": [
       "3"
      ]
     },
     "execution_count": 28,
     "metadata": {},
     "output_type": "execute_result"
    }
   ],
   "source": [
    "q[m]"
   ]
  },
  {
   "cell_type": "code",
   "execution_count": 29,
   "metadata": {},
   "outputs": [],
   "source": [
    "model = Sequential()\n",
    "\n",
    "model.add(Conv2D(filters=32,kernel_size=(4,4),input_shape=(64,64,1)))\n",
    "model.add(LeakyReLU())\n",
    "model.add(MaxPool2D(pool_size=(2,2)))\n",
    "model.add(Dropout(0.3))\n",
    "\n",
    "model.add(Conv2D(filters=64,kernel_size=(4,4)))\n",
    "model.add(LeakyReLU())\n",
    "model.add(MaxPool2D(pool_size=(2,2)))\n",
    "model.add(Dropout(0.3))\n",
    "\n",
    "model.add(Conv2D(filters=128,kernel_size=(4,4)))\n",
    "model.add(LeakyReLU())\n",
    "model.add(MaxPool2D(pool_size=(2,2)))\n",
    "model.add(Dropout(0.3))\n",
    "\n",
    "model.add(Flatten())\n",
    "\n",
    "model.add(Dense(512))\n",
    "model.add(LeakyReLU())\n",
    "\n",
    "model.add(Dense(256))\n",
    "model.add(LeakyReLU())\n",
    "\n",
    "model.add(Dense(128))\n",
    "model.add(LeakyReLU())\n",
    "\n",
    "model.add(Dense(10,activation='softmax'))\n",
    "\n",
    "model.compile(loss = \"categorical_crossentropy\", optimizer = \"rmsprop\",metrics=['accuracy'])"
   ]
  },
  {
   "cell_type": "code",
   "execution_count": 30,
   "metadata": {},
   "outputs": [
    {
     "name": "stdout",
     "output_type": "stream",
     "text": [
      "Train on 1600 samples, validate on 462 samples\n",
      "Epoch 1/30\n",
      "1600/1600 [==============================] - 25s 16ms/sample - loss: 2.3790 - accuracy: 0.1119 - val_loss: 2.2318 - val_accuracy: 0.2597\n",
      "Epoch 2/30\n",
      "1600/1600 [==============================] - 18s 12ms/sample - loss: 1.3936 - accuracy: 0.5169 - val_loss: 0.7667 - val_accuracy: 0.7489\n",
      "Epoch 3/30\n",
      "1600/1600 [==============================] - 23s 14ms/sample - loss: 0.5861 - accuracy: 0.8025 - val_loss: 0.4969 - val_accuracy: 0.8247\n",
      "Epoch 4/30\n",
      "1600/1600 [==============================] - 22s 14ms/sample - loss: 0.3659 - accuracy: 0.8788 - val_loss: 0.3269 - val_accuracy: 0.8983\n",
      "Epoch 5/30\n",
      "1600/1600 [==============================] - 22s 14ms/sample - loss: 0.2850 - accuracy: 0.9112 - val_loss: 0.2934 - val_accuracy: 0.9026\n",
      "Epoch 6/30\n",
      "1600/1600 [==============================] - 21s 13ms/sample - loss: 0.1908 - accuracy: 0.9388 - val_loss: 0.3205 - val_accuracy: 0.9069\n",
      "Epoch 7/30\n",
      "1600/1600 [==============================] - 23s 14ms/sample - loss: 0.1627 - accuracy: 0.9469 - val_loss: 0.3250 - val_accuracy: 0.9026\n"
     ]
    }
   ],
   "source": [
    "history = model.fit(X_train,y_train,epochs=30,validation_data=(X_test,y_test),callbacks=[early_stop])"
   ]
  },
  {
   "cell_type": "code",
   "execution_count": 31,
   "metadata": {},
   "outputs": [
    {
     "data": {
      "text/plain": [
       "[0.32503008532833744, 0.9025974]"
      ]
     },
     "execution_count": 31,
     "metadata": {},
     "output_type": "execute_result"
    }
   ],
   "source": [
    "model.evaluate(X_test,y_test,verbose=0)"
   ]
  },
  {
   "cell_type": "code",
   "execution_count": 32,
   "metadata": {},
   "outputs": [],
   "source": [
    "model.save(\"model_2.h5\")"
   ]
  },
  {
   "cell_type": "code",
   "execution_count": 33,
   "metadata": {},
   "outputs": [],
   "source": [
    "metrics = pd.DataFrame(model.history.history)"
   ]
  },
  {
   "cell_type": "code",
   "execution_count": 34,
   "metadata": {},
   "outputs": [
    {
     "data": {
      "text/plain": [
       "<matplotlib.axes._subplots.AxesSubplot at 0x1f8ce7ea308>"
      ]
     },
     "execution_count": 34,
     "metadata": {},
     "output_type": "execute_result"
    },
    {
     "data": {
      "image/png": "[encoded data removed]",
      "text/plain": [
       "<Figure size 432x288 with 1 Axes>"
      ]
     },
     "metadata": {
      "needs_background": "light"
     },
     "output_type": "display_data"
    }
   ],
   "source": [
    "metrics.plot()"
   ]
  },
  {
   "cell_type": "code",
   "execution_count": 35,
   "metadata": {},
   "outputs": [
    {
     "name": "stdout",
     "output_type": "stream",
     "text": [
      "[[42  0  0  0  0  0  1  0  0  0]\n",
      " [ 0 50  1  0  0  1  0  0  0  0]\n",
      " [ 0  0 35  0  0  0  0  0  0  0]\n",
      " [ 0  0  0 45  0  1  5  0  0  0]\n",
      " [ 0  0  2  0 44  1  0  1  4  0]\n",
      " [ 2  0  4  0  0 46  6  0  0  0]\n",
      " [ 0  0  0  0  0  0 35  0  0  0]\n",
      " [ 1  0  0  0  0  0  0 39  0  0]\n",
      " [ 0  0  5  5  2  0  1  1 43  0]\n",
      " [ 0  0  0  0  0  0  1  0  0 38]]\n"
     ]
    }
   ],
   "source": [
    "q = model.predict_classes(X_test)\n",
    "y_classes = [np.argmax(y, axis=None, out=None) for y in y_test]\n",
    "l = confusion_matrix(q,y_classes)\n",
    "print(l)"
   ]
  },
  {
   "cell_type": "code",
   "execution_count": 36,
   "metadata": {},
   "outputs": [
    {
     "data": {
      "text/plain": [
       "<matplotlib.axes._subplots.AxesSubplot at 0x1f8cea0c808>"
      ]
     },
     "execution_count": 36,
     "metadata": {},
     "output_type": "execute_result"
    },
    {
     "data": {
      "image/png": "[encoded data removed]",
      "text/plain": [
       "<Figure size 432x288 with 2 Axes>"
      ]
     },
     "metadata": {
      "needs_background": "light"
     },
     "output_type": "display_data"
    }
   ],
   "source": [
    "sns.heatmap(l,cmap=\"BuPu\")"
   ]
  },
  {
   "cell_type": "code",
   "execution_count": 37,
   "metadata": {},
   "outputs": [
    {
     "data": {
      "text/plain": [
       "<matplotlib.image.AxesImage at 0x1f8ceade608>"
      ]
     },
     "execution_count": 37,
     "metadata": {},
     "output_type": "execute_result"
    },
    {
     "data": {
      "image/png": "[encoded data removed]",
      "text/plain": [
       "<Figure size 432x288 with 1 Axes>"
      ]
     },
     "metadata": {
      "needs_background": "light"
     },
     "output_type": "display_data"
    }
   ],
   "source": [
    "m=156\n",
    "a = X_test[m].reshape(64,64)\n",
    "plt.imshow(a,cmap='gray')"
   ]
  },
  {
   "cell_type": "code",
   "execution_count": 38,
   "metadata": {},
   "outputs": [
    {
     "data": {
      "text/plain": [
       "8"
      ]
     },
     "execution_count": 38,
     "metadata": {},
     "output_type": "execute_result"
    }
   ],
   "source": [
    "q[m]"
   ]
  },
  {
   "cell_type": "code",
   "execution_count": null,
   "metadata": {},
   "outputs": [],
   "source": []
  }
 ],
 "metadata": {
  "kernelspec": {
   "display_name": "Python 3",
   "language": "python",
   "name": "python3"
  },
  "language_info": {
   "codemirror_mode": {
    "name": "ipython",
    "version": 3
   },
   "file_extension": ".py",
   "mimetype": "text/x-python",
   "name": "python",
   "nbconvert_exporter": "python",
   "pygments_lexer": "ipython3",
   "version": "3.7.6"
  }
 },
 "nbformat": 4,
 "nbformat_minor": 4
}
